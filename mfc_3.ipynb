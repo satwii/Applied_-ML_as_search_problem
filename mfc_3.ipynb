{
 "cells": [
  {
   "cell_type": "markdown",
   "metadata": {
    "id": "mD73ReG2SCq8"
   },
   "source": [
    "<center> \n",
    "\n",
    "## **Applied ML as a Search Problem: Iterated Local Search From Scratch in Python**\n",
    "\n",
    "</center>"
   ]
  },
  {
   "cell_type": "markdown",
   "metadata": {
    "id": "5WK1rNl2SNfI"
   },
   "source": [
    "### `Applied machine learning is the problem of approximating an unknown underlying mapping function from inputs to outputs`\n",
    "\n",
    "Many factors influence this search, including:\n",
    "Choice of data: What data you use, how it’s prepared, and how much you include\n",
    "impacts the quality of your model.\n",
    "Choice of algorithm: Different algorithms map inputs to outputs differently. Your choice here narrows the possible solutions.\n",
    "and etc\n"
   ]
  },
  {
   "cell_type": "markdown",
   "metadata": {
    "id": "UrF31gWgUaT4"
   },
   "source": [
    "**Implications of Machine Learning as Search**\n",
    "\n",
    "**Iterative Learning**: Many machine learning algorithms learn in steps, improving as they go. It’s like climbing a hill, where each step brings the model closer to a good solution.\n",
    "\n",
    "**Ensembles**: Combining multiple models can make predictions more accurate and reliable. Since different models make different mistakes, putting them together balances out those errors.\n",
    "\n",
    "**Spot Checking**: Trying out different algorithms at the start helps quickly find what works best for the data, as no single algorithm is perfect for every problem."
   ]
  },
  {
   "cell_type": "markdown",
   "metadata": {},
   "source": [
    "## APPLICATION-1 STOCHASTIC HILL CLIMBIMG ALGORITHM"
   ]
  },
  {
   "cell_type": "markdown",
   "metadata": {
    "id": "gr2eLxZJU6Xl"
   },
   "source": [
    "### Importing Libraries\n",
    "- `asarray`: Converts an input into a NumPy array.\n",
    "- `randn`: Generates an array of random numbers from a standard normal distribution (mean=0, standard deviation=1).\n",
    "- `rand`: Generates an array of random numbers from a uniform distribution over [0, 1).\n",
    "- `seed`: Sets the seed for random number generation, ensuring reproducibility.\n",
    "- `pyplot`: A Matplotlib module that provides a MATLAB-like interface for plotting.\n",
    "- `arange`: Generates a NumPy array with evenly spaced values over a specified interval.\n"
   ]
  },
  {
   "cell_type": "code",
   "execution_count": 1,
   "metadata": {
    "collapsed": true,
    "id": "KyPHuULGt_oC"
   },
   "outputs": [],
   "source": [
    "from numpy import asarray\n",
    "from numpy.random import randn\n",
    "from numpy.random import rand\n",
    "from numpy.random import seed\n",
    "from matplotlib import pyplot\n",
    "from numpy import arange"
   ]
  },
  {
   "cell_type": "markdown",
   "metadata": {
    "id": "Cm1f9Rc8t_oD"
   },
   "source": [
    "  ### Objective function:\n",
    "\n",
    "It computes the square of the first element of the input array x. This function is commonly used in optimization problems because it has a global minimum at x = 0 (where the function value is 0), and the function increases as the value of x moves away from 0."
   ]
  },
  {
   "cell_type": "code",
   "execution_count": 2,
   "metadata": {
    "collapsed": true,
    "id": "XWKSOng9t_oD"
   },
   "outputs": [],
   "source": [
    "# Objective function\n",
    "def objective(x):\n",
    "    return x[0]**2.0"
   ]
  },
  {
   "cell_type": "markdown",
   "metadata": {
    "id": "HdhsMUMot_oF"
   },
   "source": [
    "\n",
    "\n",
    "### Overview of Hill Climbing Algorithm:\n",
    "1. **Initial Solution**:\n",
    "   - The algorithm starts by generating a random solution within the provided bounds. The initial solution is sampled using the `rand` function, scaled by the difference between the upper and lower bounds for each dimension.\n",
    "\n",
    "2. **Evaluation of Initial Solution**:\n",
    "   - The initial solution is then evaluated using the `objective` function.\n",
    "\n",
    "3. **Main Loop**:\n",
    "   - For each iteration, the algorithm generates a **candidate solution** by adding a random perturbation (sampled from a normal distribution, scaled by `step_size`) to the current solution.\n",
    "   - The new candidate solution is evaluated using the `objective` function.\n",
    "   - If the new candidate solution has a better or equal evaluation (in the case of minimization, a lower value), it becomes the new current solution.\n",
    "   - The current solution and its evaluation are then stored for tracking purposes.\n",
    "\n",
    "4. **Progress Reporting**:\n",
    "   - The algorithm prints the progress during each iteration, showing the solution and its corresponding evaluation score.\n",
    "\n",
    "5. **Termination**:\n",
    "   - The algorithm continues for `n_iterations` or until convergence, whichever comes first.\n",
    "   - Finally, it returns the best solution found, its corresponding evaluation, and lists of all solutions and evaluations during the search.\n",
    "\n",
    "### Example Execution:\n",
    "If you were to run this on your earlier `objective` function (which is `x[0]**2`), the algorithm would try to find the value of `x[0]` that minimizes the square of `x[0]` (i.e., it would try to find `x = 0`).\n"
   ]
  },
  {
   "cell_type": "code",
   "execution_count": 3,
   "metadata": {
    "id": "RXNkpgV3t_oF"
   },
   "outputs": [],
   "source": [
    "# hill climbing local search algorithm\n",
    "def hillclimbing(objective, bounds, n_iterations, step_size):\n",
    "\t# generate an initial point\n",
    "\tsolution = bounds[:, 0] + rand(len(bounds)) * (bounds[:, 1] - bounds[:, 0])\n",
    "\t# evaluate the initial point\n",
    "\tsolution_eval = objective(solution)\n",
    "\t# run the hill climb\n",
    "\tsolutions = list()\n",
    "\tsolutions.append(solution)\n",
    "\tfor i in range(n_iterations):\n",
    "\t\t# take a step\n",
    "\t\tcandidate = solution + randn(len(bounds)) * step_size\n",
    "\t\t# evaluate candidate point\n",
    "\t\tcandidte_eval = objective(candidate)\n",
    "\t\t# check if we should keep the new point\n",
    "\t\tif candidte_eval <= solution_eval:\n",
    "\t\t\t# store the new point\n",
    "\t\t\tsolution, solution_eval = candidate, candidte_eval\n",
    "\t\t\t# keep track of solutions\n",
    "\t\t\tsolutions.append(solution)\n",
    "\t\t\t# report progress\n",
    "\t\t\tprint('>%d f(%s) = %.5f' % (i, solution, solution_eval))\n",
    "\treturn [solution, solution_eval, solutions]"
   ]
  },
  {
   "cell_type": "markdown",
   "metadata": {
    "id": "lf2hI0sTdauc"
   },
   "source": [
    "The **Hill Climbing Local Search** algorithm on the objective function (`x[0]**2`) within the specified bounds of `[-5.0, 5.0]`, using a total of 1000 iterations and a step size of 0.1.\n",
    "\n",
    "\n",
    "1. **Seeding the Random Generator**:\n",
    "   - `seed(5)` ensures that the random number generation is reproducible, so running this code multiple times will produce the same results each time.\n",
    "   \n",
    "2. **Setting the Input Bounds**:\n",
    "   - `bounds = asarray([[-5.0, 5.0]])` specifies that the algorithm will search for solutions within the range `[-5.0, 5.0]` for the single-dimensional `x`.\n",
    "\n",
    "3. **Defining the Number of Iterations**:\n",
    "   - `n_iterations = 1000` sets the number of iterations the algorithm will run. Each iteration involves taking a random step and evaluating a new candidate solution.\n",
    "\n",
    "4. **Step Size**:\n",
    "   - `step_size = 0.1` specifies the magnitude of random steps in each iteration. Larger step sizes allow the algorithm to explore the search space more broadly, while smaller ones make finer adjustments.\n",
    "\n",
    "5. **Running the Hill Climbing Algorithm**:\n",
    "   - The algorithm starts with a random solution within the bounds and iteratively tries to improve it by taking small random steps and evaluating each candidate solution.\n",
    "\n",
    "6. **Output**:\n",
    "   - After completing all iterations, it prints the final solution and its evaluation (i.e., `f(x)`), where `x` is the best solution found.\n",
    "\n",
    "\n"
   ]
  },
  {
   "cell_type": "code",
   "execution_count": 4,
   "metadata": {
    "id": "w9eS3DMDt_oG",
    "outputId": "fb6b4179-be4b-497f-8002-1261e59a5748"
   },
   "outputs": [
    {
     "name": "stdout",
     "output_type": "stream",
     "text": [
      ">1 f([-2.74290923]) = 7.52355\n",
      ">3 f([-2.65873147]) = 7.06885\n",
      ">4 f([-2.52197291]) = 6.36035\n",
      ">5 f([-2.46450214]) = 6.07377\n",
      ">7 f([-2.44740961]) = 5.98981\n",
      ">9 f([-2.28364676]) = 5.21504\n",
      ">12 f([-2.19245939]) = 4.80688\n",
      ">14 f([-2.01001538]) = 4.04016\n",
      ">15 f([-1.86425287]) = 3.47544\n",
      ">22 f([-1.79913002]) = 3.23687\n",
      ">24 f([-1.57525573]) = 2.48143\n",
      ">25 f([-1.55047719]) = 2.40398\n",
      ">26 f([-1.51783757]) = 2.30383\n",
      ">27 f([-1.49118756]) = 2.22364\n",
      ">28 f([-1.45344116]) = 2.11249\n",
      ">30 f([-1.33055275]) = 1.77037\n",
      ">32 f([-1.17805016]) = 1.38780\n",
      ">33 f([-1.15189314]) = 1.32686\n",
      ">36 f([-1.03852644]) = 1.07854\n",
      ">37 f([-0.99135322]) = 0.98278\n",
      ">38 f([-0.79448984]) = 0.63121\n",
      ">39 f([-0.69837955]) = 0.48773\n",
      ">42 f([-0.69317313]) = 0.48049\n",
      ">46 f([-0.61801423]) = 0.38194\n",
      ">48 f([-0.48799625]) = 0.23814\n",
      ">50 f([-0.22149135]) = 0.04906\n",
      ">54 f([-0.20017144]) = 0.04007\n",
      ">57 f([-0.15994446]) = 0.02558\n",
      ">60 f([-0.15492485]) = 0.02400\n",
      ">61 f([-0.03572481]) = 0.00128\n",
      ">64 f([-0.03051261]) = 0.00093\n",
      ">66 f([-0.0074283]) = 0.00006\n",
      ">78 f([-0.00202357]) = 0.00000\n",
      ">119 f([0.00128373]) = 0.00000\n",
      ">120 f([-0.00040911]) = 0.00000\n",
      ">314 f([-0.00017051]) = 0.00000\n",
      "Done!\n",
      "f([-0.00017051]) = 0.000000\n"
     ]
    }
   ],
   "source": [
    "# seed the pseudorandom number generator\n",
    "seed(5)\n",
    "# define range for input\n",
    "bounds = asarray([[-5.0, 5.0]])\n",
    "# define the total iterations\n",
    "n_iterations = 1000\n",
    "# define the maximum step size\n",
    "step_size = 0.1\n",
    "# perform the hill climbing search\n",
    "best, score, solutions = hillclimbing(objective, bounds, n_iterations, step_size)\n",
    "print('Done!')\n",
    "print('f(%s) = %f' % (best, score))"
   ]
  },
  {
   "cell_type": "markdown",
   "metadata": {
    "id": "Jos5Eadzd6C9"
   },
   "source": [
    "\n",
    "\n",
    "### **Plot 1: Objective Function vs Solutions**\n",
    "- This plot visualizes the objective function `f(x) = x[0]**2` across the input range defined by `bounds`.\n",
    "- **Objective Function Curve**: It plots the objective function as a dashed line (`'--'`), showing how `f(x)` behaves for different values of `x`.\n",
    "- **Optimal Solution**: A red vertical line at `x = 0` shows the location of the optimal solution (where `f(x)` reaches its minimum).\n",
    "- **Steps Taken**: Black circles (`'o'`) mark the locations of the solutions generated by the hill climbing algorithm, showing how the algorithm progresses toward the optimal solution.\n",
    "\n",
    "\n",
    "\n",
    "\n",
    "\n"
   ]
  },
  {
   "cell_type": "code",
   "execution_count": 5,
   "metadata": {
    "id": "cJL492uYt_oG",
    "outputId": "dfa21d59-01ad-43a6-a2a2-8711e0c560d7"
   },
   "outputs": [
    {
     "data": {
      "image/png": "[encoded data removed]",
      "text/plain": [
       "<Figure size 1400x500 with 2 Axes>"
      ]
     },
     "metadata": {},
     "output_type": "display_data"
    },
    {
     "data": {
      "text/plain": [
       "<Figure size 640x480 with 0 Axes>"
      ]
     },
     "metadata": {},
     "output_type": "display_data"
    }
   ],
   "source": [
    "# Prepare plots in subplots\n",
    "fig, (ax1, ax2) = pyplot.subplots(1, 2, figsize=(14, 5))\n",
    "\n",
    "# sample input range uniformly at 0.1 increments\n",
    "inputs = arange(bounds[0,0], bounds[0,1], 0.1)\n",
    "# create a line plot of input vs result\n",
    "pyplot.plot(inputs, [objective([x]) for x in inputs], '--')\n",
    "# draw a vertical line at the optimal input\n",
    "pyplot.axvline(x=[0.0], ls='--', color='red')\n",
    "# plot the sample as black circles\n",
    "pyplot.plot(solutions, [objective(x) for x in solutions], 'o', color='black')\n",
    "pyplot.show()\n",
    "\n",
    "\n",
    "# Show plots\n",
    "pyplot.tight_layout()\n",
    "pyplot.show()"
   ]
  },
  {
   "cell_type": "markdown",
   "metadata": {
    "id": "KOUyYkWgeRoj"
   },
   "source": [
    "### Importing Libraries:\n",
    "\n",
    "1. **`numpy` (as `np`)**:\n",
    "   - Provides efficient numerical operations, especially for working with arrays and matrices.\n",
    "   \n",
    "2. **`randn`**:\n",
    "   - Generates random numbers from a standard normal distribution (mean = 0, standard deviation = 1).\n",
    "   \n",
    "3. **`rand`**:\n",
    "   - Generates random numbers from a uniform distribution over `[0, 1)`.\n",
    "\n",
    "4. **`matplotlib.pyplot` (as `plt`)**:\n",
    "   - Used for creating visualizations, such as plotting graphs and figures.\n",
    "\n"
   ]
  },
  {
   "cell_type": "code",
   "execution_count": 6,
   "metadata": {
    "id": "Zkip4OUat_oH"
   },
   "outputs": [],
   "source": [
    "import numpy as np\n",
    "from numpy.random import randn, rand\n",
    "import matplotlib.pyplot as plt"
   ]
  },
  {
   "cell_type": "markdown",
   "metadata": {
    "id": "Vh2GGZ_PedLy"
   },
   "source": [
    "The objective function models the cost of resource allocation with penalties for falling short of the required demands.\n",
    "\n",
    "### **Explanation**:\n",
    "1. **Inputs**:\n",
    "   - `allocation`: A list or array representing the amount of resources allocated to each task.\n",
    "   - `demands`: A list or array representing the demand or required amount of resources for each task.\n",
    "\n",
    "2. **Cost Calculation**:\n",
    "   - For each task (loop over the length of `allocation`):\n",
    "     - **Basic Cost**: The square of the allocated amount (`allocation[i]**2`). This simulates rising costs as more resources are allocated.\n",
    "     - **Penalty**: If the allocated amount is less than the required demand (`allocation[i] < demands[i]`), a penalty is added. The penalty is proportional to how much the allocation falls short of the demand: `(demands[i] - allocation[i]) * penalty`.\n",
    "   \n",
    "3. **Accumulation**:\n",
    "   - The cost for each task (`task_cost`) is added to the total `cost`.\n",
    "\n",
    "4. **Return Value**:\n",
    "   - The function returns the total `cost`, which includes both the basic costs and any penalties for falling short of the demand.\n",
    "\n",
    "### **Example**:\n",
    "Let’s say you have:\n",
    "- `allocation = [5, 3, 8]`\n",
    "- `demands = [6, 2, 7]`\n",
    "\n",
    "The calculation will be:\n",
    "- For the first task (`allocation[0] = 5`, `demand[0] = 6`):\n",
    "  - Basic cost: `5^2 = 25`\n",
    "  - Penalty: `10 * (6 - 5) = 10`\n",
    "  - Total cost for task 1: `25 + 10 = 35`\n",
    "  \n",
    "- For the second task (`allocation[1] = 3`, `demand[1] = 2`):\n",
    "  - Basic cost: `3^2 = 9`\n",
    "  - No penalty (since allocation is greater than or equal to demand)\n",
    "  - Total cost for task 2: `9`\n",
    "  \n",
    "- For the third task (`allocation[2] = 8`, `demand[2] = 7`):\n",
    "  - Basic cost: `8^2 = 64`\n",
    "  - No penalty (since allocation is greater than or equal to demand)\n",
    "  - Total cost for task 3: `64`\n",
    "\n",
    "Thus, the total `cost = 35 + 9 + 64 = 108`.\n",
    "\n",
    "### **Use Case**:\n",
    "This function is useful for solving resource allocation problems where you want to minimize the total cost of allocating resources to tasks while ensuring that you meet demands. You can modify the penalty or other parameters depending on the nature of the task.\n",
    "\n"
   ]
  },
  {
   "cell_type": "code",
   "execution_count": 7,
   "metadata": {
    "id": "0tzci9Nat_oH"
   },
   "outputs": [],
   "source": [
    "def objective(allocation, demands):\n",
    "    penalty = 10  # High cost if resources fall below demand\n",
    "    cost = 0\n",
    "    for i in range(len(allocation)):\n",
    "        # Basic cost: the resource amount squared to simulate rising costs with usage\n",
    "        task_cost = allocation[i]**2\n",
    "        # Add a penalty if allocation is less than demand\n",
    "        if allocation[i] < demands[i]:\n",
    "            task_cost += penalty * (demands[i] - allocation[i])  # Penalty for falling short\n",
    "        cost += task_cost\n",
    "    return cost"
   ]
  },
  {
   "cell_type": "markdown",
   "metadata": {
    "id": "-hFFMDY9t_oH"
   },
   "source": [
    "The `hill_climbing_cloud` function implements a **stochastic hill climbing** algorithm to solve the resource allocation problem.\n",
    "\n",
    "### **Explanation**:\n",
    "1. **Inputs**:\n",
    "   - `objective`: The objective function that calculates the cost (which is based on the allocation and demands).\n",
    "   - `demands`: The required resources for each task.\n",
    "   - `bounds`: The bounds for each resource allocation (lower and upper bounds for each task).\n",
    "   - `n_iterations`: The number of iterations to run the hill climbing algorithm.\n",
    "   - `step_size`: The magnitude of the random step taken at each iteration.\n",
    "\n",
    "2. **Initial Setup**:\n",
    "   - A random initial allocation is generated within the bounds: `allocation = bounds[:, 0] + rand(len(bounds)) * (bounds[:, 1] - bounds[:, 0])`.\n",
    "   - The initial cost (evaluation) of the allocation is calculated using the `objective` function.\n",
    "\n",
    "3. **Main Loop**:\n",
    "   - **Candidate Allocation**: In each iteration, a random step is taken from the current allocation to generate a new candidate solution. The step is drawn from a normal distribution (`randn(len(bounds)) * step_size`).\n",
    "   - **Bounds Check**: The candidate solution is clipped to ensure it stays within the given bounds (`np.clip(candidate, bounds[:, 0], bounds[:, 1])`).\n",
    "   - **Evaluation**: The new candidate allocation is evaluated using the `objective` function.\n",
    "   - **Improvement Check**: If the candidate's evaluation is better (lower cost) than the current best, it is accepted as the new best solution, and the current allocation is updated.\n",
    "\n",
    "4. **Tracking Evaluations**:\n",
    "   - The evaluations of the current allocation at each step are stored in `evaluations` to track the progress of the optimization.\n",
    "\n",
    "5. **Return Values**:\n",
    "   - The function returns the **best allocation** found, its **evaluation (cost)**, and a list of all **evaluations** during the iterations.\n",
    "\n",
    "### **Example Use Case**:\n",
    "\n",
    "Assume you are running the stochastic hill climbing algorithm for resource allocation across 3 tasks. You might define:\n",
    "- `bounds = np.array([[0, 10], [0, 5], [0, 8]])` (meaning that task 1 can be allocated between 0 and 10 units, task 2 between 0 and 5, and task 3 between 0 and 8).\n",
    "- `demands = np.array([5, 3, 6])` (indicating the required resources for each task).\n",
    "- `n_iterations = 100` (number of iterations for the optimization process).\n",
    "- `step_size = 0.5` (magnitude of the random step).\n",
    "\n",
    "The algorithm will try to find the optimal allocation of resources to minimize the cost, where the cost is defined by how much the allocation exceeds or falls short of the demands, as well as the rising cost of higher resource usage.\n",
    "\n",
    "### **Print Output**:\n",
    "During the iterations, the algorithm prints the step number, the current cost, and the current allocation:\n",
    "\n",
    "Step 0, Cost: 100.5, Allocation: [4.5, 2.5, 5.8]\n",
    "\n",
    "Step 1, Cost: 90.2, Allocation: [4.2, 3.0, 5.5]\n",
    "\n",
    "\n",
    "\n",
    "\n"
   ]
  },
  {
   "cell_type": "code",
   "execution_count": 8,
   "metadata": {
    "id": "wRN9x7Q7t_oH"
   },
   "outputs": [],
   "source": [
    "# Stochastic hill climbing algorithm\n",
    "def hill_climbing_cloud(objective, demands, bounds, n_iterations, step_size):\n",
    "    # Initial random allocation\n",
    "    allocation = bounds[:, 0] + rand(len(bounds)) * (bounds[:, 1] - bounds[:, 0])\n",
    "    allocation_eval = objective(allocation, demands)\n",
    "\n",
    "    best_allocation, best_eval = allocation, allocation_eval\n",
    "    evaluations = []\n",
    "\n",
    "    for i in range(n_iterations):\n",
    "        # Take a random step\n",
    "        candidate = allocation + randn(len(bounds)) * step_size\n",
    "        # Keep allocations within bounds\n",
    "        candidate = np.clip(candidate, bounds[:, 0], bounds[:, 1])\n",
    "        candidate_eval = objective(candidate, demands)\n",
    "\n",
    "        # Check if the new allocation is better\n",
    "        if candidate_eval < best_eval:\n",
    "            best_allocation, best_eval = candidate, candidate_eval\n",
    "            allocation, allocation_eval = candidate, candidate_eval\n",
    "            print(f\"Step {i}, Cost: {allocation_eval}, Allocation: {allocation}\")\n",
    "\n",
    "        evaluations.append(allocation_eval)\n",
    "\n",
    "    return best_allocation, best_eval, evaluations"
   ]
  },
  {
   "cell_type": "markdown",
   "metadata": {
    "id": "YzeNGk5QfgWP"
   },
   "source": [
    "\n",
    "### **Execution**:\n",
    "- The `hill_climbing_cloud` algorithm will start with a random allocation of resources within the given bounds and iteratively improve the allocation to minimize the cost (as calculated by the `objective` function).\n",
    "- The algorithm will evaluate new candidates by taking small random steps in the solution space and updating the solution if a better allocation is found (i.e., a lower cost).\n",
    "  \n",
    "\n"
   ]
  },
  {
   "cell_type": "code",
   "execution_count": 9,
   "metadata": {
    "id": "2swiRLOHt_oI",
    "outputId": "362636b5-0685-4800-803b-bd602cdde2e4"
   },
   "outputs": [
    {
     "name": "stdout",
     "output_type": "stream",
     "text": [
      "Step 3, Cost: 119.32060660140934, Allocation: [7.46378155 5.31390993 2.60962156 5.34460552]\n",
      "Step 5, Cost: 112.49086475199766, Allocation: [7.31261165 4.95938298 2.69126599 5.21326994]\n",
      "Step 7, Cost: 103.43397115684742, Allocation: [7.20819917 4.24074481 2.88795824 5.01513873]\n",
      "Step 8, Cost: 84.40242237302434, Allocation: [5.69653469 4.37728236 2.44362565 5.1788037 ]\n",
      "Step 14, Cost: 80.90137156949154, Allocation: [5.41777402 3.99232224 2.2643281  5.51420892]\n",
      "Step 17, Cost: 75.95320013728772, Allocation: [4.79591349 4.39802723 2.38195367 5.28545809]\n",
      "Step 18, Cost: 71.33501847916904, Allocation: [3.41639598 5.02066693 2.43443439 5.34131911]\n",
      "Step 22, Cost: 66.7589529913171, Allocation: [3.40969602 4.99587635 2.63770159 4.81836859]\n",
      "Step 23, Cost: 64.70013343157711, Allocation: [3.00541069 4.59288816 1.96766231 5.5408775 ]\n",
      "Step 24, Cost: 62.754312098808995, Allocation: [2.69184028 5.46407866 1.02588021 4.95981071]\n",
      "Step 26, Cost: 61.125543699362595, Allocation: [2.50100386 4.90060391 1.         5.46393674]\n",
      "Step 30, Cost: 51.155568336121846, Allocation: [1.84332707 4.07238711 1.         5.34851826]\n",
      "Step 37, Cost: 42.80618395124763, Allocation: [1.70182764 3.91293415 1.         4.44370688]\n",
      "Step 38, Cost: 40.73922922016802, Allocation: [1.69532711 4.40484206 1.         3.7968056 ]\n",
      "Step 40, Cost: 39.936547743276634, Allocation: [2.06844755 4.53362284 1.00480361 3.7542917 ]\n",
      "Step 44, Cost: 33.67948345007434, Allocation: [2.11944792 3.99055713 1.         3.48833041]\n",
      "Step 54, Cost: 32.146340984463265, Allocation: [2.38020549 3.94488092 1.         2.91009892]\n",
      "Step 101, Cost: 31.37348758517825, Allocation: [1.90944389 3.65622667 1.         2.99594817]\n",
      "Best Allocation: [1.90944389 3.65622667 1.         2.99594817]\n",
      "Best Cost: 31.37348758517825\n"
     ]
    }
   ],
   "source": [
    "# Define the task demands and bounds for resources (e.g., CPUs, memory)\n",
    "demands = np.array([2, 4, 1, 3])  # Minimum resource demand per task\n",
    "bounds = np.array([[1, 10], [1, 10], [1, 10], [1, 10]])  # Resource bounds per task\n",
    "n_iterations = 200\n",
    "step_size = 0.5\n",
    "# Run the hill climbing search\n",
    "\n",
    "best_allocation, best_score, evaluations = hill_climbing_cloud(objective, demands, bounds, n_iterations, step_size)\n",
    "\n",
    "print('Best Allocation:', best_allocation)\n",
    "print('Best Cost:', best_score)\n"
   ]
  },
  {
   "cell_type": "markdown",
   "metadata": {
    "id": "hFFCtiyWt_oI"
   },
   "source": [
    "The plot will show the **total cost** reduction over the iterations of the stochastic hill climbing algorithm. The `evaluations` list contains the cost at each step, so plotting it will give you insight into how the algorithm progresses and how much the total cost decreases as it iterates through different resource allocations.\n",
    "\n",
    "### Expected Outcome:\n",
    "- The **x-axis** represents the iteration number.\n",
    "- The **y-axis** represents the total cost associated with the allocation at each iteration.\n",
    "- As the algorithm proceeds, the cost should decrease, reflecting improvements in the allocation.\n",
    "\n",
    "The resulting plot will show the algorithm's progress in reducing the total cost. If there are sharp declines, it means the algorithm found some significant improvements in the solution. The plot might also plateau if the algorithm converges to a local minimum.\n",
    "\n",
    "\n",
    "### Things to Note:\n",
    "- If the plot shows a smooth decrease, it indicates steady improvement.\n",
    "- If the plot fluctuates or plateaus, it might suggest that the algorithm has converged or is getting stuck in a local minimum.\n"
   ]
  },
  {
   "cell_type": "code",
   "execution_count": 10,
   "metadata": {
    "id": "p-LB5t9jt_oI",
    "outputId": "a30c160e-cee2-4337-a9cf-3dfe3a0069bb"
   },
   "outputs": [
    {
     "data": {
      "image/png": "[encoded data removed]",
      "text/plain": [
       "<Figure size 640x480 with 1 Axes>"
      ]
     },
     "metadata": {},
     "output_type": "display_data"
    }
   ],
   "source": [
    "# Plot the cost improvement over iterations\n",
    "plt.plot(evaluations, '.-')\n",
    "plt.xlabel('Iteration')\n",
    "plt.ylabel('Total Cost')\n",
    "plt.title('Cost Reduction Over Time')\n",
    "plt.show()"
   ]
  },
  {
   "cell_type": "markdown",
   "metadata": {
    "id": "1aJUWQQgt_oJ"
   },
   "source": [
    "---\n",
    "# **APPLICATION-2**\n",
    "\n",
    "\n",
    "\n",
    "\n"
   ]
  },
  {
   "cell_type": "markdown",
   "metadata": {
    "id": "GazlAd_PzC4c"
   },
   "source": [
    "# **Enumerate All Feature Subsets :**\n",
    "### It refers to the process of generating every possible subset of a given set of features. In feature selection, this approach examines all combinations of features to identify the subset that yields the best model performance.\n",
    "\n",
    "## **EXPLANATION:**\n",
    "\n",
    "\n",
    "1.   **Feature Set:** Suppose we have a set of\n",
    "𝑛\n",
    "nfeatures\n",
    "{\n",
    "𝑓\n",
    "1\n",
    ",\n",
    "𝑓\n",
    "2\n",
    ",\n",
    "…\n",
    ",\n",
    "𝑓\n",
    "𝑛\n",
    "}\n",
    ".\n",
    "2.   **Possible Subsets:** There are\n",
    "2\n",
    "𝑛\n",
    "  possible subsets of these features (including the empty subset and the subset with all features). Each subset represents a unique combination of features that could be used to train a model.\n",
    "  \n",
    "  For example, if we have a set of 3 features\n",
    "\n",
    "  *   {} (empty set, no features)\n",
    "  *  {f\n",
    "1\n",
    "​\n",
    " },\n",
    "{\n",
    "𝑓\n",
    "2\n",
    "},\n",
    "{\n",
    "𝑓\n",
    "3\n",
    "} (single-feature subsets)\n",
    "  *   {f\n",
    "1\n",
    "​\n",
    " ,f\n",
    "2\n",
    "​\n",
    " },\n",
    "{\n",
    "𝑓\n",
    "1\n",
    ",\n",
    "𝑓\n",
    "3\n",
    "},\n",
    "{\n",
    "𝑓\n",
    "2\n",
    ",\n",
    "𝑓\n",
    "3\n",
    "} (two-feature subsets)\n",
    "  * {f\n",
    "1\n",
    "​\n",
    " ,f\n",
    "2\n",
    "​\n",
    " ,f\n",
    "3\n",
    "​\n",
    " } (all features)\n",
    "\n",
    "\n",
    "\n",
    "3.  **Evaluating Each Subset:** For each subset, we:\n",
    "  *   Train a model using only the features in that subset.\n",
    "  *   Evaluate the model’s performance (e.g., accuracy, F1-score).\n",
    "\n",
    "\n",
    "\n",
    "4.   **Selecting the Best Subset:** After evaluating all subsets, we select the subset with the best performance according to the chosen metric\n",
    "\n",
    "## **Mathematical Formulation:**\n",
    "\n",
    "\n",
    "1.   **Total Number of Subsets:** Given\n",
    "𝑛\n",
    "features, there are\n",
    "2\n",
    "𝑛\n",
    "  possible subsets. This is because each feature can either be included or excluded, leading to\n",
    "2\n",
    "choices for each of the\n",
    "𝑛\n",
    "features.\n",
    "\n",
    "\n",
    "2.   Computational **Complexity:** For large\n",
    "𝑛\n",
    ",\n",
    "2\n",
    "𝑛\n",
    "  grows exponentially, making it impractical to enumerate all subsets when\n",
    "𝑛\n",
    " is large. For example:\n",
    "  *   If\n",
    "𝑛\n",
    "=\n",
    "3, there are\n",
    "2\n",
    "^\n",
    "3\n",
    "=\n",
    "8\n",
    "subsets.\n",
    "  *   If\n",
    "𝑛\n",
    "=\n",
    "10, there are\n",
    "2\n",
    "^\n",
    "10\n",
    "=\n",
    "1024\n",
    "subsets.\n",
    "  *  If\n",
    "𝑛\n",
    "=\n",
    "20, there are\n",
    "2\n",
    "^\n",
    "20\n",
    "≈\n",
    "1\n",
    "million subsets.\n",
    "\n",
    " Because of this exponential growth, exhaustive enumeration is often computationally infeasible for large feature sets.\"Enumerate All Feature Subsets\" refers to the process of generating every possible subset of a given set of features. In feature selection, this approach examines all combinations of features to identify the subset that yields the best model performance.\n",
    "\n",
    "### Explanation in Terms of Feature Selection\n",
    "\n",
    "1. **Feature Set**:\n",
    "   Suppose we have a set of \\( n \\) features \\( \\{f_1, f_2, \\ldots, f_n\\} \\).\n",
    "   \n",
    "2. **Possible Subsets**:\n",
    "   There are \\( 2^n \\) possible subsets of these features (including the empty subset and the subset with all features). Each subset represents a unique combination of features that could be used to train a model.\n",
    "\n",
    "   For example, if we have a set of 3 features \\( \\{f_1, f_2, f_3\\} \\), the possible subsets are:\n",
    "   - \\( \\{\\} \\) (empty set, no features)\n",
    "   - \\( \\{f_1\\} \\), \\( \\{f_2\\} \\), \\( \\{f_3\\} \\) (single-feature subsets)\n",
    "   - \\( \\{f_1, f_2\\} \\), \\( \\{f_1, f_3\\} \\), \\( \\{f_2, f_3\\} \\) (two-feature subsets)\n",
    "   - \\( \\{f_1, f_2, f_3\\} \\) (all features)\n",
    "\n",
    "3. **Evaluating Each Subset**:\n",
    "   For each subset, we:\n",
    "   - Train a model using only the features in that subset.\n",
    "   - Evaluate the model’s performance (e.g., accuracy, F1-score).\n",
    "   \n",
    "4. **Selecting the Best Subset**:\n",
    "   After evaluating all subsets, we select the subset with the best performance according to the chosen metric.\n",
    "\n",
    "### Mathematical Formulation\n",
    "\n",
    "1. **Total Number of Subsets**:\n",
    "   Given \\( n \\) features, there are \\( 2^n \\) possible subsets. This is because each feature can either be included or excluded, leading to \\( 2 \\) choices for each of the \\( n \\) features.\n",
    "\n",
    "2. **Computational Complexity**:\n",
    "   For large \\( n \\), \\( 2^n \\) grows exponentially, making it impractical to enumerate all subsets when \\( n \\) is large. For example:\n",
    "   - If \\( n = 3 \\), there are \\( 2^3 = 8 \\) subsets.\n",
    "   - If \\( n = 10 \\), there are \\( 2^{10} = 1024 \\) subsets.\n",
    "   - If \\( n = 20 \\), there are \\( 2^{20} \\approx 1\\) million subsets.\n",
    "\n",
    "Because of this exponential growth, exhaustive enumeration is often computationally infeasible for large feature sets. Instead, **stochastic or heuristic search algorithms** like genetic algorithms, hill climbing, or forward selection are commonly used to explore the feature space without evaluating every possible subset.\n",
    "\n",
    "\n",
    "\n",
    "\n",
    "\n"
   ]
  },
  {
   "cell_type": "code",
   "execution_count": 11,
   "metadata": {
    "colab": {
     "base_uri": "https://localhost:8080/"
    },
    "id": "_lR1strfvrP5",
    "outputId": "849db427-91d1-4bba-96ea-33307958d557"
   },
   "outputs": [
    {
     "name": "stdout",
     "output_type": "stream",
     "text": [
      "(1000, 5) (1000,)\n"
     ]
    }
   ],
   "source": [
    "# define a small classification dataset\n",
    "from sklearn.datasets import make_classification\n",
    "# define dataset\n",
    "X, y = make_classification(n_samples=1000, n_features=5, n_informative=2, n_redundant=3, random_state=1)\n",
    "# summarize the shape of the dataset\n",
    "print(X.shape, y.shape)"
   ]
  },
  {
   "cell_type": "markdown",
   "metadata": {
    "id": "9Tcf8HXO7ab2"
   },
   "source": [
    "This code snippet demonstrates how to create a synthetic classification dataset using `make_classification` from the `sklearn.datasets` module. It sets up a small dataset to experiment with machine learning models.\n",
    "\n",
    "### Code Explanation\n",
    "\n",
    "1. **Importing `make_classification`**:\n",
    "   - `from sklearn.datasets import make_classification`: This imports the `make_classification` function, which is commonly used for generating synthetic datasets for classification tasks.\n",
    "\n",
    "2. **Defining the Dataset**:\n",
    "   - `X, y = make_classification(...)`: This function creates a dataset with specified properties and returns two arrays:\n",
    "     - `X`: The feature matrix (independent variables).\n",
    "     - `y`: The target array (dependent variable).\n",
    "   \n",
    "   - **Parameters of `make_classification`**:\n",
    "     - `n_samples=1000`: Specifies that the dataset should have 1000 samples (rows).\n",
    "     - `n_features=5`: Specifies that each sample should have 5 features (columns).\n",
    "     - `n_informative=2`: Sets 2 of the 5 features as \"informative,\" meaning they are useful in determining the target variable.\n",
    "     - `n_redundant=3`: Sets 3 of the 5 features as \"redundant,\" meaning they are linear combinations of the informative features and thus add no additional predictive power.\n",
    "     - `random_state=1`: Sets a random seed to ensure reproducibility, so each run generates the same data.\n",
    "\n",
    "3. **Summarizing the Dataset Shape**:\n",
    "   - `print(X.shape, y.shape)`: Prints the shape of the feature matrix `X` and the target vector `y` to provide a summary of the dataset's dimensions.\n",
    "     - `X.shape` will output `(1000, 5)`, meaning 1000 samples with 5 features each.\n",
    "     - `y.shape` will output `(1000,)`, meaning there are 1000 labels, one for each sample in `X`.\n"
   ]
  },
  {
   "cell_type": "code",
   "execution_count": 12,
   "metadata": {
    "colab": {
     "base_uri": "https://localhost:8080/"
    },
    "id": "jMkS-a9QvvJm",
    "outputId": "d6d184ae-20fa-4307-8cf9-30b1e1286b21"
   },
   "outputs": [
    {
     "name": "stdout",
     "output_type": "stream",
     "text": [
      "Mean Accuracy: 0.809 (0.029)\n"
     ]
    }
   ],
   "source": [
    "# evaluate a decision tree on the entire small dataset\n",
    "from numpy import mean\n",
    "from numpy import std\n",
    "from sklearn.datasets import make_classification\n",
    "from sklearn.model_selection import cross_val_score\n",
    "from sklearn.model_selection import RepeatedStratifiedKFold\n",
    "from sklearn.tree import DecisionTreeClassifier\n",
    "# define dataset\n",
    "X, y = make_classification(n_samples=1000, n_features=3, n_informative=2, n_redundant=1, random_state=1)\n",
    "# define model\n",
    "model = DecisionTreeClassifier()\n",
    "# define evaluation procedure\n",
    "cv = RepeatedStratifiedKFold(n_splits=10, n_repeats=3, random_state=1)\n",
    "# evaluate model\n",
    "scores = cross_val_score(model, X, y, scoring='accuracy', cv=cv, n_jobs=-1)\n",
    "# report result\n",
    "print('Mean Accuracy: %.3f (%.3f)' % (mean(scores), std(scores)))"
   ]
  },
  {
   "cell_type": "markdown",
   "metadata": {
    "id": "vS-PvsVR8DQG"
   },
   "source": [
    "This code evaluates a `DecisionTreeClassifier` on a synthetic classification dataset using cross-validation.\n",
    "\n",
    "### Explanation\n",
    "\n",
    "1. **Dataset Creation**:\n",
    "   - `X, y = make_classification(...)`: Generates a dataset with 1000 samples and 3 features, where:\n",
    "     - `n_informative=2`: 2 features are informative (helpful in predicting the target).\n",
    "     - `n_redundant=1`: 1 feature is redundant (linearly dependent on the informative features).\n",
    "\n",
    "2. **Model Definition**:\n",
    "   - `model = DecisionTreeClassifier()`: Defines a basic decision tree classifier as the model to evaluate.\n",
    "\n",
    "3. **Cross-Validation Setup**:\n",
    "   - `cv = RepeatedStratifiedKFold(n_splits=10, n_repeats=3, random_state=1)`: Sets up repeated stratified k-fold cross-validation, which:\n",
    "     - Splits the dataset into 10 folds (`n_splits=10`) for each run.\n",
    "     - Repeats the cross-validation process 3 times (`n_repeats=3`), providing a more reliable accuracy estimate.\n",
    "     - Ensures reproducibility with `random_state=1`.\n",
    "\n",
    "4. **Model Evaluation**:\n",
    "   - `scores = cross_val_score(model, X, y, scoring='accuracy', cv=cv, n_jobs=-1)`: Evaluates the model using accuracy as the metric:\n",
    "     - `n_jobs=-1`: Utilizes all available CPU cores for faster computation.\n",
    "   - `mean(scores)` and `std(scores)`: Calculates the mean and standard deviation of the accuracy scores across all cross-validation folds and repeats.\n",
    "\n",
    "5. **Reporting Results**:\n",
    "   - `print('Mean Accuracy: %.3f (%.3f)' % (mean(scores), std(scores)))`: Prints the average accuracy and its standard deviation, providing insight into model performance and stability.\n"
   ]
  },
  {
   "cell_type": "code",
   "execution_count": 13,
   "metadata": {
    "colab": {
     "base_uri": "https://localhost:8080/"
    },
    "id": "F-8-4AQPwFqR",
    "outputId": "5f850b8e-abd3-42ea-9322-f22bf173247f"
   },
   "outputs": [
    {
     "name": "stdout",
     "output_type": "stream",
     "text": [
      ">f([0, 1, 2, 3, 4]) = 0.816333 \n",
      ">f([0, 1, 2, 3]) = 0.824000 \n",
      ">f([0, 1, 2, 4]) = 0.822667 \n",
      ">f([0, 1, 2]) = 0.823667 \n",
      ">f([0, 1, 3, 4]) = 0.822667 \n",
      ">f([0, 1, 3]) = 0.825667 \n",
      ">f([0, 1, 4]) = 0.809000 \n",
      ">f([0, 1]) = 0.822000 \n",
      ">f([0, 2, 3, 4]) = 0.828667 \n",
      ">f([0, 2, 3]) = 0.822000 \n",
      ">f([0, 2, 4]) = 0.828000 \n",
      ">f([0, 2]) = 0.817333 \n",
      ">f([0, 3, 4]) = 0.829000 \n",
      ">f([0, 3]) = 0.819667 \n",
      ">f([0, 4]) = 0.819667 \n",
      ">f([0]) = 0.639333 \n",
      ">f([1, 2, 3, 4]) = 0.825000 \n",
      ">f([1, 2, 3]) = 0.822333 \n",
      ">f([1, 2, 4]) = 0.829000 \n",
      ">f([1, 2]) = 0.818667 \n",
      ">f([1, 3, 4]) = 0.820333 \n",
      ">f([1, 3]) = 0.823333 \n",
      ">f([1, 4]) = 0.804333 \n",
      ">f([1]) = 0.797000 \n",
      ">f([2, 3, 4]) = 0.828333 \n",
      ">f([2, 3]) = 0.759000 \n",
      ">f([2, 4]) = 0.826667 \n",
      ">f([2]) = 0.516667 \n",
      ">f([3, 4]) = 0.826333 \n",
      ">f([3]) = 0.514333 \n",
      ">f([4]) = 0.777667 \n",
      "Done!\n",
      "f([1, 2, 4]) = 0.829000\n"
     ]
    }
   ],
   "source": [
    "# feature selection by enumerating all possible subsets of features\n",
    "from itertools import product\n",
    "from numpy import mean\n",
    "from sklearn.datasets import make_classification\n",
    "from sklearn.model_selection import cross_val_score\n",
    "from sklearn.model_selection import RepeatedStratifiedKFold\n",
    "from sklearn.tree import DecisionTreeClassifier\n",
    "# define dataset\n",
    "X, y = make_classification(n_samples=1000, n_features=5, n_informative=2, n_redundant=3, random_state=1)\n",
    "# determine the number of columns\n",
    "n_cols = X.shape[1]\n",
    "best_subset, best_score = None, 0.0\n",
    "# enumerate all combinations of input features\n",
    "for subset in product([True, False], repeat=n_cols):\n",
    "\t# convert into column indexes\n",
    "\tix = [i for i, x in enumerate(subset) if x]\n",
    "\t# check for now column (all False)\n",
    "\tif len(ix) == 0:\n",
    "\t\tcontinue\n",
    "\t# select columns\n",
    "\tX_new = X[:, ix]\n",
    "\t# define model\n",
    "\tmodel = DecisionTreeClassifier()\n",
    "\t# define evaluation procedure\n",
    "\tcv = RepeatedStratifiedKFold(n_splits=10, n_repeats=3, random_state=1)\n",
    "\t# evaluate model\n",
    "\tscores = cross_val_score(model, X_new, y, scoring='accuracy', cv=cv, n_jobs=-1)\n",
    "\t# summarize scores\n",
    "\tresult = mean(scores)\n",
    "\t# report progress\n",
    "\tprint('>f(%s) = %f ' % (ix, result))\n",
    "\t# check if it is better than the best so far\n",
    "\tif best_score is None or result >= best_score:\n",
    "\t\t# better result\n",
    "\t\tbest_subset, best_score = ix, result\n",
    "# report best\n",
    "print('Done!')\n",
    "print('f(%s) = %f' % (best_subset, best_score))"
   ]
  },
  {
   "cell_type": "markdown",
   "metadata": {
    "id": "24g0p5Mo8ssV"
   },
   "source": [
    "\n",
    "### Explanation\n",
    "\n",
    "1. **Imports and Dataset Creation**:\n",
    "   - `from itertools import product`: Imports `product` to generate all possible combinations of True/False for feature selection.\n",
    "   - `from numpy import mean`: Imports `mean` to calculate average accuracy.\n",
    "   - `X, y = make_classification(...)`: Creates a synthetic classification dataset with 1000 samples and 5 features:\n",
    "     - `n_informative=2`: 2 features contribute to predicting the target.\n",
    "     - `n_redundant=3`: 3 features are redundant (linearly dependent on informative features).\n",
    "\n",
    "2. **Setting Up Enumeration**:\n",
    "   - `n_cols = X.shape[1]`: Gets the total number of features (5 in this case).\n",
    "   - `best_subset, best_score = None, 0.0`: Initializes variables to keep track of the best feature subset and its score.\n",
    "\n",
    "3. **Enumerating All Feature Subsets**:\n",
    "   - `for subset in product([True, False], repeat=n_cols)`: Generates all combinations of including/excluding each feature (2^5 = 32 combinations for 5 features).\n",
    "\n",
    "4. **Selecting Columns**:\n",
    "   - `ix = [i for i, x in enumerate(subset) if x]`: For each subset, this list comprehension selects feature indices where `x` is `True` (i.e., selected features).\n",
    "   - `if len(ix) == 0: continue`: Skips subsets with no features selected (all False).\n",
    "\n",
    "5. **Model Definition and Evaluation**:\n",
    "   - `X_new = X[:, ix]`: Selects only the columns in `ix` to create a feature subset.\n",
    "   - `model = DecisionTreeClassifier()`: Defines a decision tree classifier model.\n",
    "   - `cv = RepeatedStratifiedKFold(n_splits=10, n_repeats=3, random_state=1)`: Sets up cross-validation with 10 folds, repeated 3 times.\n",
    "   - `scores = cross_val_score(model, X_new, y, scoring='accuracy', cv=cv, n_jobs=-1)`: Evaluates the model with the subset of features using cross-validation, where `n_jobs=-1` enables parallel processing.\n",
    "   - `result = mean(scores)`: Calculates the average accuracy for this subset.\n",
    "\n",
    "6. **Tracking the Best Subset**:\n",
    "   - `if best_score is None or result >= best_score`: Checks if the current subset's score is the best so far.\n",
    "   - `best_subset, best_score = ix, result`: Updates the best subset and score if the current subset performs better.\n",
    "\n",
    "7. **Final Output**:\n",
    "   - Prints each subset's performance during the loop.\n",
    "   - After the loop, reports the best subset and its accuracy score.\n",
    "\n"
   ]
  },
  {
   "cell_type": "markdown",
   "metadata": {
    "id": "RCbTCbaf8_u2"
   },
   "source": [
    "# **FORMULAS USED:**\n",
    "\n",
    "![image.png](data:image/png;base64,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)\n"
   ]
  },
  {
   "cell_type": "markdown",
   "metadata": {
    "id": "yyozVfKy-7od"
   },
   "source": [
    "![image.png](data:image/png;base64,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)"
   ]
  },
  {
   "cell_type": "markdown",
   "metadata": {
    "id": "n9UmNnAu-_a0"
   },
   "source": [
    "![image.png](data:image/png;base64,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)"
   ]
  },
  {
   "cell_type": "markdown",
   "metadata": {
    "id": "t-qAyWXT_HMV"
   },
   "source": [
    "![image.png](data:image/png;base64,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)"
   ]
  },
  {
   "cell_type": "markdown",
   "metadata": {
    "id": "uuRwMVwr_MoG"
   },
   "source": [
    "![image.png](data:image/png;base64,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)"
   ]
  },
  {
   "cell_type": "markdown",
   "metadata": {
    "id": "M8a_fgWmwTc4"
   },
   "source": [
    "---\n",
    "# **OPTIMIZE FEATURE SUBSETS**\n",
    "Optimizing subset features, often referred to as *feature selection*, is the process of selecting a subset of relevant features (or variables) in a dataset to improve the performance and efficiency of a machine learning model. This technique is particularly helpful in reducing overfitting, improving model interpretability, and reducing computation time, especially with large datasets containing numerous features.\n"
   ]
  },
  {
   "cell_type": "code",
   "execution_count": 14,
   "metadata": {
    "colab": {
     "base_uri": "https://localhost:8080/"
    },
    "id": "YxM6__QjwXfh",
    "outputId": "a80d462b-c758-4765-cef1-7ebe501e79f2"
   },
   "outputs": [
    {
     "name": "stdout",
     "output_type": "stream",
     "text": [
      "(10000, 500) (10000,)\n"
     ]
    }
   ],
   "source": [
    "# define a large classification dataset\n",
    "from sklearn.datasets import make_classification\n",
    "# define dataset\n",
    "X, y = make_classification(n_samples=10000, n_features=500, n_informative=10, n_redundant=490, random_state=1)\n",
    "# summarize the shape of the dataset\n",
    "print(X.shape, y.shape)"
   ]
  },
  {
   "cell_type": "markdown",
   "metadata": {
    "id": "cZAD-kFjOYfy"
   },
   "source": [
    "# EXPLANATION:\n",
    "This code snippet generates a synthetic classification dataset with many features, most of which are redundant, using scikit-learn's `make_classification` function. Here’s a breakdown:\n",
    "\n",
    "   - `n_samples=10000`: Specifies the number of samples (rows) in the dataset. Here, 10,000 samples are generated.\n",
    "   - `n_features=500`: Specifies the total number of features (columns) in the dataset. Here, 500 features are created.\n",
    "   - `n_informative=10`: Specifies the number of informative features that are actually useful for predicting the target variable `y`. Here, only 10 features carry meaningful information.\n",
    "   - `n_redundant=490`: Specifies the number of redundant features, which are linear combinations of the informative features and add no new information to the model. Here, 490 features are redundant.\n",
    "   - `random_state=1`: Sets the random seed for reproducibility, ensuring the same dataset is generated each time the code is run.\n",
    "\n",
    "   - `X` is the feature matrix with shape `(10000, 500)`, where each row represents a sample and each column represents a feature.\n",
    "   - `y` is the target vector (the labels) with shape `(10000,)`, where each element corresponds to the label of a sample in `X`.\n",
    "\n",
    "   - `X.shape` returns the shape of the feature matrix, which should output `(10000, 500)`, indicating 10,000 samples with 500 features.\n",
    "   - `y.shape` returns the shape of the target vector, which should output `(10000,)`, indicating 10,000 labels.\n"
   ]
  },
  {
   "cell_type": "code",
   "execution_count": 15,
   "metadata": {
    "colab": {
     "base_uri": "https://localhost:8080/"
    },
    "id": "bIvlL0B_wbTX",
    "outputId": "b12d9e9c-e9a3-41d2-a01d-4df128e0edb1"
   },
   "outputs": [
    {
     "name": "stdout",
     "output_type": "stream",
     "text": [
      "Mean Accuracy: 0.914 (0.002)\n"
     ]
    }
   ],
   "source": [
    "# evaluate a decision tree on the entire larger dataset\n",
    "from numpy import mean\n",
    "from numpy import std\n",
    "from sklearn.datasets import make_classification\n",
    "from sklearn.model_selection import cross_val_score\n",
    "from sklearn.model_selection import StratifiedKFold\n",
    "from sklearn.tree import DecisionTreeClassifier\n",
    "# define dataset\n",
    "X, y = make_classification(n_samples=10000, n_features=500, n_informative=10, n_redundant=490, random_state=1)\n",
    "# define model\n",
    "model = DecisionTreeClassifier()\n",
    "# define evaluation procedure\n",
    "cv = StratifiedKFold(n_splits=3)\n",
    "# evaluate model\n",
    "scores = cross_val_score(model, X, y, scoring='accuracy', cv=cv, n_jobs=-1)\n",
    "# report result\n",
    "print('Mean Accuracy: %.3f (%.3f)' % (mean(scores), std(scores)))"
   ]
  },
  {
   "cell_type": "markdown",
   "metadata": {
    "id": "G4fZ1URAPGtp"
   },
   "source": [
    "# EXPLANATION:\n",
    "This code evaluates the performance of a Decision Tree Classifier on a large, synthetic classification dataset using k-fold cross-validation.\n",
    "\n",
    "1. **Import Libraries**:\n",
    "\n",
    "   - `mean` and `std` from numpy: Used to compute the mean and standard deviation of the cross-validation scores.\n",
    "   - `make_classification`: Generates a synthetic classification dataset.\n",
    "   - `cross_val_score`: Evaluates the model using cross-validation.\n",
    "   - `StratifiedKFold`: A variation of k-fold cross-validation that maintains the proportion of classes in each fold.\n",
    "   - `DecisionTreeClassifier`: Implements the Decision Tree algorithm for classification.\n",
    "\n",
    "2. **Generate the Dataset**:\n",
    "   - `X, y = make_classification(n_samples=10000, n_features=500, n_informative=10, n_redundant=490, random_state=1)`:\n",
    "   - Generates a dataset with 10,000 samples, 500 features, 10 informative features, and 490 redundant features (as explained in the previous example).\n",
    "\n",
    "3. **Define the Model**:\n",
    "   - `model = DecisionTreeClassifier()`:\n",
    "\n",
    "   - Initializes a basic Decision Tree classifier model with default parameters. Decision Trees are popular in classification tasks as they model the decision-making process using a tree-like structure.\n",
    "\n",
    "4. **Define the Evaluation Procedure**:\n",
    "  \n",
    "   - `StratifiedKFold` is used to split the data into 3 stratified folds, where each fold contains approximately the same proportion of each class as the full dataset. This helps ensure balanced class distributions in each fold, improving the reliability of cross-validation results.\n",
    "\n",
    "5. **Evaluate the Model**:\n",
    "\n",
    "  \n",
    "   - `cross_val_score` evaluates the `model` using 3-fold cross-validation (specified by `cv=cv`).\n",
    "   - `scoring='accuracy'`: Measures the accuracy of the model on each fold.\n",
    "   - `n_jobs=-1`: Runs the cross-validation in parallel, using all available CPU cores to speed up the process.\n",
    "   - The function returns an array of accuracy scores for each fold.\n",
    "\n",
    "6. **Report the Results**:\n",
    "  \n",
    "   - `mean(scores)`: Calculates the mean accuracy score across all folds.\n",
    "   - `std(scores)`: Calculates the standard deviation of accuracy scores across folds, providing insight into the variability of model performance.\n",
    "   - The results are printed, with accuracy scores formatted to three decimal places.\n",
    "\n"
   ]
  },
  {
   "cell_type": "code",
   "execution_count": null,
   "metadata": {
    "colab": {
     "base_uri": "https://localhost:8080/"
    },
    "id": "a_UAa-Pkwem7",
    "outputId": "78521b88-9eec-4d5b-c049-5779c8b4bb7c"
   },
   "outputs": [],
   "source": [
    "# stochastic optimization for feature selection\n",
    "from numpy import mean\n",
    "from numpy.random import rand\n",
    "from numpy.random import choice\n",
    "from sklearn.datasets import make_classification\n",
    "from sklearn.model_selection import cross_val_score\n",
    "from sklearn.tree import DecisionTreeClassifier\n",
    "\n",
    "# objective function\n",
    "def objective(X, y, subset):\n",
    "\t# convert into column indexes\n",
    "\tix = [i for i, x in enumerate(subset) if x]\n",
    "\t# check for now column (all False)\n",
    "\tif len(ix) == 0:\n",
    "\t\treturn 0.0\n",
    "\t# select columns\n",
    "\tX_new = X[:, ix]\n",
    "\t# define model\n",
    "\tmodel = DecisionTreeClassifier()\n",
    "\t# evaluate model\n",
    "\tscores = cross_val_score(model, X_new, y, scoring='accuracy', cv=3, n_jobs=-1)\n",
    "\t# summarize scores\n",
    "\tresult = mean(scores)\n",
    "\treturn result, ix\n",
    "\n",
    "# mutation operator\n",
    "def mutate(solution, p_mutate):\n",
    "\t# make a copy\n",
    "\tchild = solution.copy()\n",
    "\tfor i in range(len(child)):\n",
    "\t\t# check for a mutation\n",
    "\t\tif rand() < p_mutate:\n",
    "\t\t\t# flip the inclusion\n",
    "\t\t\tchild[i] = not child[i]\n",
    "\treturn child\n",
    "\n",
    "# hill climbing local search algorithm\n",
    "def hillclimbing(X, y, objective, n_iter, p_mutate):\n",
    "\t# generate an initial point\n",
    "\tsolution = choice([True, False], size=X.shape[1])\n",
    "\t# evaluate the initial point\n",
    "\tsolution_eval, ix = objective(X, y, solution)\n",
    "\t# run the hill climb\n",
    "\tfor i in range(n_iter):\n",
    "\t\t# take a step\n",
    "\t\tcandidate = mutate(solution, p_mutate)\n",
    "\t\t# evaluate candidate point\n",
    "\t\tcandidate_eval, ix = objective(X, y, candidate)\n",
    "\t\t# check if we should keep the new point\n",
    "\t\tif candidate_eval >= solution_eval:\n",
    "\t\t\t# store the new point\n",
    "\t\t\tsolution, solution_eval = candidate, candidate_eval\n",
    "\t\t# report progress\n",
    "\t\tprint('>%d f(%s) = %f' % (i+1, len(ix), solution_eval))\n",
    "\treturn solution, solution_eval\n",
    "\n",
    "# define dataset1111111111111\n",
    "X, y = make_classification(n_samples=10000, n_features=500, n_informative=10, n_redundant=490, random_state=1)\n",
    "# define the total iterations\n",
    "n_iter = 100\n",
    "# probability of including/excluding a column\n",
    "p_mut = 10.0 / 500.0\n",
    "# perform the hill climbing search\n",
    "subset, score = hillclimbing(X, y, objective, n_iter, p_mut)\n",
    "# convert into column indexes\n",
    "ix = [i for i, x in enumerate(subset) if x]\n",
    "print('Done!')\n",
    "print('Best: f(%d) = %f' % (len(ix), score))"
   ]
  },
  {
   "cell_type": "markdown",
   "metadata": {
    "id": "e-qPs-nFQO_y"
   },
   "source": [
    "# **EXPLANATION:**\n",
    "This code demonstrates the use of *stochastic optimization* through a hill-climbing algorithm for feature selection in a machine learning context. The goal is to identify an optimal subset of features from a larger dataset that improves the accuracy of a classifier—in this case, a `DecisionTreeClassifier`. Here’s a step-by-step explanation:\n",
    "\n",
    "### 1. Import Libraries\n",
    "\n",
    "- `mean` from numpy: Computes the mean score across cross-validation folds.\n",
    "- `rand` and `choice` from numpy: Generates random values, used for initializing solutions and mutating solutions during optimization.\n",
    "- `make_classification`, `cross_val_score`, `DecisionTreeClassifier`: Imports used to create a synthetic dataset, perform cross-validation, and classify the data.\n",
    "\n",
    "### 2. Define the Objective Function\n",
    "\n",
    "- `objective(X, y, subset)`: Computes the accuracy of a `DecisionTreeClassifier` on a subset of features.\n",
    "- `ix`: A list of column indices for features included in the subset.\n",
    "- `if len(ix) == 0`: If no features are selected (all `False`), returns a score of 0.0.\n",
    "- `X_new = X[:, ix]`: Selects only the features indicated by `ix`.\n",
    "- `cross_val_score(model, X_new, y, scoring='accuracy', cv=3, n_jobs=-1)`: Evaluates the model’s accuracy using 3-fold cross-validation.\n",
    "- `result = mean(scores)`: Averages the scores to get a single performance metric.\n",
    "- Returns `result` (mean accuracy) and `ix` (indices of selected features).\n",
    "\n",
    "### 3. Define the Mutation Operator\n",
    "\n",
    "- `mutate(solution, p_mutate)`: Randomly flips bits in the feature selection array (`solution`) based on the mutation probability `p_mutate`.\n",
    "- For each feature in `solution`, a random number is generated using `rand()`. If this number is less than `p_mutate`, the feature's inclusion status is flipped.\n",
    "\n",
    "### 4. Define the Hill-Climbing Algorithm\n",
    "\n",
    "- `hillclimbing(X, y, objective, n_iter, p_mutate)`: Attempts to improve a solution iteratively by accepting mutations that do not decrease performance.\n",
    "- `solution = choice([True, False], size=X.shape[1])`: Initializes a random feature selection array.\n",
    "- `solution_eval, ix = objective(X, y, solution)`: Evaluates the initial solution.\n",
    "- For each iteration (`n_iter`):\n",
    "  - `candidate = mutate(solution, p_mutate)`: Generates a mutated solution.\n",
    "  - `candidate_eval, ix = objective(X, y, candidate)`: Evaluates the candidate.\n",
    "  - If `candidate_eval` is better than or equal to `solution_eval`, the candidate becomes the new solution.\n",
    "  - Reports the iteration number, number of selected features, and the current best accuracy.\n",
    "\n",
    "### 5. Run the Hill-Climbing Search\n",
    "\n",
    "- `make_classification(...)`: Creates the synthetic dataset.\n",
    "- `n_iter = 100`: Specifies the number of hill-climbing iterations.\n",
    "- `p_mut = 10.0 / 500.0`: Mutation probability, ensuring each feature has a 2% chance of being flipped.\n",
    "- `subset, score = hillclimbing(...)`: Runs hill climbing to find the best subset of features.\n",
    "- `ix`: Lists the indices of the best subset of features.\n",
    "- `print(...)`: Displays the final subset size and best accuracy score.\n"
   ]
  },
  {
   "cell_type": "markdown",
   "metadata": {
    "id": "MhWOu9kDQxtv"
   },
   "source": [
    "# **FORMULAS USED:**\n",
    "\n",
    "![image.png](data:image/png;base64,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)"
   ]
  },
  {
   "cell_type": "markdown",
   "metadata": {
    "id": "fdkKi0BKSNR-"
   },
   "source": [
    "These formulas govern the accuracy calculations, feature subset evaluations, mutation operations, and the overall logic for feature selection using hill climbing.\n",
    "\n",
    "\n",
    "---\n",
    "\n"
   ]
  },
  {
   "cell_type": "code",
   "execution_count": null,
   "metadata": {},
   "outputs": [],
   "source": []
  },
  {
   "cell_type": "code",
   "execution_count": null,
   "metadata": {},
   "outputs": [],
   "source": []
  },
  {
   "cell_type": "code",
   "execution_count": null,
   "metadata": {},
   "outputs": [],
   "source": []
  }
 ],
 "metadata": {
  "colab": {
   "provenance": []
  },
  "kernelspec": {
   "display_name": "Python 3",
   "language": "python",
   "name": "python3"
  },
  "language_info": {
   "codemirror_mode": {
    "name": "ipython",
    "version": 3
   },
   "file_extension": ".py",
   "mimetype": "text/x-python",
   "name": "python",
   "nbconvert_exporter": "python",
   "pygments_lexer": "ipython3",
   "version": "3.12.7"
  }
 },
 "nbformat": 4,
 "nbformat_minor": 0
}
